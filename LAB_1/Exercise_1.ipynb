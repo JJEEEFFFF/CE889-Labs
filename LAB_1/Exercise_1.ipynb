{
  "cells": [
    {
      "cell_type": "markdown",
      "metadata": {
        "id": "view-in-github",
        "colab_type": "text"
      },
      "source": [
        "<a href=\"https://colab.research.google.com/github/JJEEEFFFF/CE889-Labs/blob/main/LAB_1/Exercise_1.ipynb\" target=\"_parent\"><img src=\"https://colab.research.google.com/assets/colab-badge.svg\" alt=\"Open In Colab\"/></a>"
      ]
    },
    {
      "cell_type": "code",
      "execution_count": 8,
      "id": "5aa28a38",
      "metadata": {
        "id": "5aa28a38"
      },
      "outputs": [],
      "source": [
        "import numpy as np\n",
        "\n",
        "def forwardPropagationSigmoid(xvalue):\n",
        "    sig = (1/(1+np.exp(-xvalue)))\n",
        "    return sig\n",
        "\n",
        "xArray = [[1,6,8,0],[33,2,3,5],[1,6,6,7],[2,9,8,4],[5,6,9,6],[32,13,0,2]]\n",
        "x = np.array(xArray)\n",
        "w = np.full((6, 2), 0.01)\n",
        "\n",
        "b = np.full((2,4),0.01)\n",
        "\n",
        "calc = np.dot(w.transpose(),x) + b\n",
        "yCalc = forwardPropagationSigmoid(calc)\n",
        "\n",
        "y = np.array([[1,0,1,0],[0,1,0,1]])\n",
        "    \n",
        "#Loss calculation    \n",
        "y2 = np.square(y-yCalc).sum()/8\n",
        "    \n",
        "\n",
        "\n"
      ]
    },
    {
      "cell_type": "code",
      "execution_count": 4,
      "id": "87057422",
      "metadata": {
        "colab": {
          "base_uri": "https://localhost:8080/"
        },
        "id": "87057422",
        "outputId": "d0a126a5-e1f2-4b79-a200-68528a707ad7"
      },
      "outputs": [
        {
          "output_type": "stream",
          "name": "stdout",
          "text": [
            "losss =0.26367069053632153\n"
          ]
        }
      ],
      "source": [
        "print(f\"losss ={y2}\")"
      ]
    },
    {
      "cell_type": "code",
      "execution_count": 11,
      "id": "8e3b457c",
      "metadata": {
        "colab": {
          "base_uri": "https://localhost:8080/"
        },
        "id": "8e3b457c",
        "outputId": "069b979c-0af4-422b-f385-29025928a5bf"
      },
      "outputs": [
        {
          "output_type": "execute_result",
          "data": {
            "text/plain": [
              "0.9990889488055994"
            ]
          },
          "metadata": {},
          "execution_count": 11
        }
      ],
      "source": [
        "forwardPropagationSigmoid(7)"
      ]
    },
    {
      "cell_type": "code",
      "execution_count": null,
      "id": "59c07ab8",
      "metadata": {
        "id": "59c07ab8"
      },
      "outputs": [],
      "source": [
        ""
      ]
    }
  ],
  "metadata": {
    "kernelspec": {
      "display_name": "Python 3 (ipykernel)",
      "language": "python",
      "name": "python3"
    },
    "language_info": {
      "codemirror_mode": {
        "name": "ipython",
        "version": 3
      },
      "file_extension": ".py",
      "mimetype": "text/x-python",
      "name": "python",
      "nbconvert_exporter": "python",
      "pygments_lexer": "ipython3",
      "version": "3.9.6"
    },
    "colab": {
      "name": "Exercise 1.ipynb",
      "provenance": [],
      "include_colab_link": true
    }
  },
  "nbformat": 4,
  "nbformat_minor": 5
}