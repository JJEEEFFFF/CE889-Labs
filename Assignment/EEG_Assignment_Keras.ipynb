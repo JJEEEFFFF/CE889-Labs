{
  "nbformat": 4,
  "nbformat_minor": 0,
  "metadata": {
    "colab": {
      "name": "EEG_Assignment_Keras.ipynb",
      "provenance": [],
      "authorship_tag": "ABX9TyM7rd1bY4SgyN8nVO7LgGhe",
      "include_colab_link": true
    },
    "kernelspec": {
      "name": "python3",
      "display_name": "Python 3"
    },
    "language_info": {
      "name": "python"
    }
  },
  "cells": [
    {
      "cell_type": "markdown",
      "metadata": {
        "id": "view-in-github",
        "colab_type": "text"
      },
      "source": [
        "<a href=\"https://colab.research.google.com/github/JJEEEFFFF/CE889-Labs/blob/main/Assignment/EEG_Assignment_Keras.ipynb\" target=\"_parent\"><img src=\"https://colab.research.google.com/assets/colab-badge.svg\" alt=\"Open In Colab\"/></a>"
      ]
    },
    {
      "cell_type": "code",
      "execution_count": 1,
      "metadata": {
        "id": "WJSldfRR7WIx"
      },
      "outputs": [],
      "source": [
        "from keras.wrappers.scikit_learn import KerasClassifier\n",
        "from keras.models import Sequential\n",
        "from keras.layers import Dense, Dropout, Flatten, BatchNormalization, AveragePooling2D, Conv2D\n",
        "from sklearn.model_selection import cross_val_score, cross_validate, KFold, StratifiedKFold, cross_val_predict\n",
        "from keras import layers, models\n",
        "from sklearn.metrics import multilabel_confusion_matrix, confusion_matrix\n",
        "import numpy as np\n",
        "import scipy.io as io\n",
        "from sklearn.neighbors import KNeighborsClassifier\n",
        "import pandas as pd\n",
        "from sklearn.model_selection import train_test_split"
      ]
    },
    {
      "cell_type": "markdown",
      "source": [
        "# **Load and Prepare the data**"
      ],
      "metadata": {
        "id": "HzQhTOTvfA8N"
      }
    },
    {
      "cell_type": "code",
      "source": [
        "data = io.loadmat('/content/drive/MyDrive/Neural/WLDataCW.mat')\n",
        "print('Length: ' + str(len(data)))\n",
        "print(data.keys())\n",
        "print(data['__globals__'])\n",
        "data_only = data[\"data\"]\n",
        "label = data[\"label\"]\n",
        "print(data_only.shape)\n",
        "print(label.shape)\n",
        "\n",
        "X = data['data']\n",
        "data['label'] = data['label'].reshape(360)\n",
        "\n",
        "y_convert = pd.get_dummies(data['label'])\n",
        "X = X.reshape(360, 62*512)\n",
        "y_convert = np.array(y_convert)\n",
        "y = y_convert\n",
        "\n",
        "X_train, X_test, y_train, y_test = train_test_split(X, y, test_size=0.2, random_state=0)"
      ],
      "metadata": {
        "colab": {
          "base_uri": "https://localhost:8080/"
        },
        "id": "eSlqERNvTNb_",
        "outputId": "990498b9-4adb-4708-b808-d1e7c9e32d96"
      },
      "execution_count": 2,
      "outputs": [
        {
          "output_type": "stream",
          "name": "stdout",
          "text": [
            "Length: 5\n",
            "dict_keys(['__header__', '__version__', '__globals__', 'data', 'label'])\n",
            "[]\n",
            "(62, 512, 360)\n",
            "(1, 360)\n"
          ]
        }
      ]
    },
    {
      "cell_type": "code",
      "source": [
        "neigh = KNeighborsClassifier(n_neighbors=10)\n",
        "neigh.fit(X_train, y_train)\n",
        "y_new = np.argmax(y, axis=1)\n",
        "kfold = KFold(n_splits=5, shuffle=True)\n",
        "accuracies = cross_val_score(estimator=neigh,\n",
        "                             X=X,\n",
        "                             y=y_new,\n",
        "                             cv=kfold, scoring='accuracy')\n",
        "print(accuracies.mean())"
      ],
      "metadata": {
        "colab": {
          "base_uri": "https://localhost:8080/"
        },
        "id": "N8YMR1YTHKkz",
        "outputId": "cfb04a0e-4226-4047-f20e-79b8ed694c84"
      },
      "execution_count": 3,
      "outputs": [
        {
          "output_type": "stream",
          "name": "stdout",
          "text": [
            "0.425\n"
          ]
        }
      ]
    },
    {
      "cell_type": "code",
      "source": [
        "def make_classifier():\n",
        "    model = models.Sequential()\n",
        "    model.add(layers.Dense(128, activation='relu', input_dim=31744))\n",
        "    model.add(layers.Dropout(rate=0.1))\n",
        "    model.add(layers.Dense(64, activation='relu'))\n",
        "    model.add(layers.Dropout(rate=0.1))\n",
        "    model.add(layers.Dense(32, activation='relu'))\n",
        "    model.add(layers.Dropout(rate=0.1))\n",
        "    model.add(layers.Dense(16, activation='relu'))\n",
        "    model.add(layers.Dropout(rate=0.2))\n",
        "    model.add(layers.Dense(8, activation='relu'))\n",
        "    model.add(layers.Dropout(rate=0.2))\n",
        "    model.add(Flatten())\n",
        "    model.add(layers.Dense(2, activation='softmax'))\n",
        "\n",
        "    model.compile(optimizer='adam',\n",
        "                  loss='mse',\n",
        "                  metrics=['accuracy'])\n",
        "    return model\n"
      ],
      "metadata": {
        "id": "CI6mnDmTUUTX"
      },
      "execution_count": 4,
      "outputs": []
    },
    {
      "cell_type": "markdown",
      "source": [
        "Define the K-fold Cross Validator"
      ],
      "metadata": {
        "id": "-ZCCt3d9zw1a"
      }
    },
    {
      "cell_type": "code",
      "source": [
        "\n",
        "kfold = KFold(n_splits=5, shuffle=True)\n",
        "classifier = KerasClassifier(build_fn=make_classifier, verbose=1)\n",
        "\n",
        "# Fit data to model\n",
        "classifier.fit(X_train, y_train, batch_size=64, epochs=50)\n",
        "\n",
        "y_new = np.argmax(y, axis=1)\n",
        "\n",
        "accuracies = cross_val_score(estimator=classifier,\n",
        "                             X=X,\n",
        "                             y=y_new,\n",
        "                             cv=kfold, scoring='accuracy')\n",
        "print(accuracies.mean())"
      ],
      "metadata": {
        "colab": {
          "base_uri": "https://localhost:8080/"
        },
        "id": "28l6ylmEUVIf",
        "outputId": "0dcf336c-b608-4648-fd30-f3041d9a7dc9"
      },
      "execution_count": 5,
      "outputs": [
        {
          "output_type": "stream",
          "name": "stderr",
          "text": [
            "/usr/local/lib/python3.7/dist-packages/ipykernel_launcher.py:3: DeprecationWarning: KerasClassifier is deprecated, use Sci-Keras (https://github.com/adriangb/scikeras) instead. See https://www.adriangb.com/scikeras/stable/migration.html for help migrating.\n",
            "  This is separate from the ipykernel package so we can avoid doing imports until\n"
          ]
        },
        {
          "output_type": "stream",
          "name": "stdout",
          "text": [
            "Epoch 1/50\n",
            "5/5 [==============================] - 2s 56ms/step - loss: 0.4664 - accuracy: 0.4965\n",
            "Epoch 2/50\n",
            "5/5 [==============================] - 0s 61ms/step - loss: 0.4884 - accuracy: 0.4826\n",
            "Epoch 3/50\n",
            "5/5 [==============================] - 0s 82ms/step - loss: 0.4568 - accuracy: 0.5174\n",
            "Epoch 4/50\n",
            "5/5 [==============================] - 0s 67ms/step - loss: 0.5185 - accuracy: 0.4688\n",
            "Epoch 5/50\n",
            "5/5 [==============================] - 0s 74ms/step - loss: 0.4689 - accuracy: 0.5139\n",
            "Epoch 6/50\n",
            "5/5 [==============================] - 0s 67ms/step - loss: 0.4676 - accuracy: 0.5243\n",
            "Epoch 7/50\n",
            "5/5 [==============================] - 0s 78ms/step - loss: 0.4739 - accuracy: 0.5174\n",
            "Epoch 8/50\n",
            "5/5 [==============================] - 0s 81ms/step - loss: 0.4932 - accuracy: 0.4896\n",
            "Epoch 9/50\n",
            "5/5 [==============================] - 0s 67ms/step - loss: 0.4706 - accuracy: 0.5139\n",
            "Epoch 10/50\n",
            "5/5 [==============================] - 0s 61ms/step - loss: 0.4557 - accuracy: 0.5347\n",
            "Epoch 11/50\n",
            "5/5 [==============================] - 0s 86ms/step - loss: 0.4600 - accuracy: 0.5312\n",
            "Epoch 12/50\n",
            "5/5 [==============================] - 0s 80ms/step - loss: 0.5009 - accuracy: 0.4861\n",
            "Epoch 13/50\n",
            "5/5 [==============================] - 0s 68ms/step - loss: 0.4862 - accuracy: 0.5035\n",
            "Epoch 14/50\n",
            "5/5 [==============================] - 0s 61ms/step - loss: 0.4474 - accuracy: 0.5382\n",
            "Epoch 15/50\n",
            "5/5 [==============================] - 0s 81ms/step - loss: 0.4768 - accuracy: 0.5104\n",
            "Epoch 16/50\n",
            "5/5 [==============================] - 0s 73ms/step - loss: 0.4316 - accuracy: 0.5451\n",
            "Epoch 17/50\n",
            "5/5 [==============================] - 0s 67ms/step - loss: 0.4388 - accuracy: 0.5590\n",
            "Epoch 18/50\n",
            "5/5 [==============================] - 0s 74ms/step - loss: 0.4922 - accuracy: 0.5000\n",
            "Epoch 19/50\n",
            "5/5 [==============================] - 0s 64ms/step - loss: 0.4419 - accuracy: 0.5521\n",
            "Epoch 20/50\n",
            "5/5 [==============================] - 0s 67ms/step - loss: 0.4300 - accuracy: 0.5556\n",
            "Epoch 21/50\n",
            "5/5 [==============================] - 0s 63ms/step - loss: 0.4426 - accuracy: 0.5521\n",
            "Epoch 22/50\n",
            "5/5 [==============================] - 0s 57ms/step - loss: 0.4562 - accuracy: 0.5278\n",
            "Epoch 23/50\n",
            "5/5 [==============================] - 0s 65ms/step - loss: 0.4175 - accuracy: 0.5833\n",
            "Epoch 24/50\n",
            "5/5 [==============================] - 0s 80ms/step - loss: 0.4532 - accuracy: 0.5451\n",
            "Epoch 25/50\n",
            "5/5 [==============================] - 0s 78ms/step - loss: 0.4218 - accuracy: 0.5729\n",
            "Epoch 26/50\n",
            "5/5 [==============================] - 0s 71ms/step - loss: 0.4006 - accuracy: 0.5938\n",
            "Epoch 27/50\n",
            "5/5 [==============================] - 0s 44ms/step - loss: 0.4801 - accuracy: 0.5104\n",
            "Epoch 28/50\n",
            "5/5 [==============================] - 0s 42ms/step - loss: 0.4362 - accuracy: 0.5556\n",
            "Epoch 29/50\n",
            "5/5 [==============================] - 0s 39ms/step - loss: 0.3964 - accuracy: 0.6076\n",
            "Epoch 30/50\n",
            "5/5 [==============================] - 0s 42ms/step - loss: 0.4104 - accuracy: 0.5833\n",
            "Epoch 31/50\n",
            "5/5 [==============================] - 0s 41ms/step - loss: 0.4617 - accuracy: 0.5312\n",
            "Epoch 32/50\n",
            "5/5 [==============================] - 0s 38ms/step - loss: 0.4318 - accuracy: 0.5521\n",
            "Epoch 33/50\n",
            "5/5 [==============================] - 0s 38ms/step - loss: 0.4094 - accuracy: 0.5799\n",
            "Epoch 34/50\n",
            "5/5 [==============================] - 0s 40ms/step - loss: 0.4472 - accuracy: 0.5486\n",
            "Epoch 35/50\n",
            "5/5 [==============================] - 0s 40ms/step - loss: 0.4481 - accuracy: 0.5382\n",
            "Epoch 36/50\n",
            "5/5 [==============================] - 0s 39ms/step - loss: 0.4213 - accuracy: 0.5694\n",
            "Epoch 37/50\n",
            "5/5 [==============================] - 0s 39ms/step - loss: 0.4255 - accuracy: 0.5729\n",
            "Epoch 38/50\n",
            "5/5 [==============================] - 0s 38ms/step - loss: 0.4266 - accuracy: 0.5729\n",
            "Epoch 39/50\n",
            "5/5 [==============================] - 0s 37ms/step - loss: 0.4294 - accuracy: 0.5660\n",
            "Epoch 40/50\n",
            "5/5 [==============================] - 0s 40ms/step - loss: 0.4703 - accuracy: 0.5243\n",
            "Epoch 41/50\n",
            "5/5 [==============================] - 0s 38ms/step - loss: 0.4358 - accuracy: 0.5590\n",
            "Epoch 42/50\n",
            "5/5 [==============================] - 0s 38ms/step - loss: 0.4694 - accuracy: 0.5208\n",
            "Epoch 43/50\n",
            "5/5 [==============================] - 0s 39ms/step - loss: 0.4535 - accuracy: 0.5417\n",
            "Epoch 44/50\n",
            "5/5 [==============================] - 0s 40ms/step - loss: 0.4286 - accuracy: 0.5694\n",
            "Epoch 45/50\n",
            "5/5 [==============================] - 0s 44ms/step - loss: 0.4518 - accuracy: 0.5417\n",
            "Epoch 46/50\n",
            "5/5 [==============================] - 0s 38ms/step - loss: 0.4437 - accuracy: 0.5521\n",
            "Epoch 47/50\n",
            "5/5 [==============================] - 0s 39ms/step - loss: 0.4795 - accuracy: 0.5139\n",
            "Epoch 48/50\n",
            "5/5 [==============================] - 0s 38ms/step - loss: 0.4109 - accuracy: 0.5833\n",
            "Epoch 49/50\n",
            "5/5 [==============================] - 0s 37ms/step - loss: 0.4475 - accuracy: 0.5451\n",
            "Epoch 50/50\n",
            "5/5 [==============================] - 0s 37ms/step - loss: 0.4301 - accuracy: 0.5660\n",
            "9/9 [==============================] - 1s 31ms/step - loss: 0.4707 - accuracy: 0.4444\n",
            "9/9 [==============================] - 1s 32ms/step - loss: 0.4476 - accuracy: 0.4965\n",
            "9/9 [==============================] - 1s 31ms/step - loss: 0.4044 - accuracy: 0.5486\n",
            "9/9 [==============================] - 1s 31ms/step - loss: 0.4658 - accuracy: 0.5104\n",
            "9/9 [==============================] - 1s 29ms/step - loss: 0.4699 - accuracy: 0.5139\n",
            "WARNING:tensorflow:5 out of the last 13 calls to <function Model.make_predict_function.<locals>.predict_function at 0x7f51703bb320> triggered tf.function retracing. Tracing is expensive and the excessive number of tracings could be due to (1) creating @tf.function repeatedly in a loop, (2) passing tensors with different shapes, (3) passing Python objects instead of tensors. For (1), please define your @tf.function outside of the loop. For (2), @tf.function has experimental_relax_shapes=True option that relaxes argument shapes that can avoid unnecessary retracing. For (3), please refer to https://www.tensorflow.org/guide/function#controlling_retracing and https://www.tensorflow.org/api_docs/python/tf/function for  more details.\n",
            "0.5416666666666666\n"
          ]
        }
      ]
    },
    {
      "cell_type": "code",
      "source": [
        ""
      ],
      "metadata": {
        "id": "K4NnRHc9U8ED"
      },
      "execution_count": 5,
      "outputs": []
    }
  ]
}