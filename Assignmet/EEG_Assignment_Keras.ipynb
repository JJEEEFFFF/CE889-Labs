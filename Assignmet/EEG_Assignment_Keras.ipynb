{
  "nbformat": 4,
  "nbformat_minor": 0,
  "metadata": {
    "colab": {
      "name": "EEG_Assignment_Keras.ipynb",
      "provenance": [],
      "authorship_tag": "ABX9TyMVpWC2hc+4BukGxgLuCyrk",
      "include_colab_link": true
    },
    "kernelspec": {
      "name": "python3",
      "display_name": "Python 3"
    },
    "language_info": {
      "name": "python"
    }
  },
  "cells": [
    {
      "cell_type": "markdown",
      "metadata": {
        "id": "view-in-github",
        "colab_type": "text"
      },
      "source": [
        "<a href=\"https://colab.research.google.com/github/JJEEEFFFF/CE889-Labs/blob/main/Assignmet/EEG_Assignment_Keras.ipynb\" target=\"_parent\"><img src=\"https://colab.research.google.com/assets/colab-badge.svg\" alt=\"Open In Colab\"/></a>"
      ]
    },
    {
      "cell_type": "code",
      "execution_count": 1,
      "metadata": {
        "id": "WJSldfRR7WIx"
      },
      "outputs": [],
      "source": [
        "from keras.wrappers.scikit_learn import KerasClassifier\n",
        "from keras.models import Sequential\n",
        "from keras.layers import Dense, Dropout, Flatten, BatchNormalization, AveragePooling2D, Conv2D\n",
        "from sklearn.model_selection import cross_val_score, cross_validate, KFold, StratifiedKFold, cross_val_predict\n",
        "from keras import layers, models\n",
        "from sklearn.metrics import multilabel_confusion_matrix, confusion_matrix\n",
        "import numpy as np\n",
        "import scipy.io as io\n",
        "from sklearn.neighbors import KNeighborsClassifier\n",
        "import pandas as pd\n",
        "from sklearn.model_selection import train_test_split"
      ]
    },
    {
      "cell_type": "markdown",
      "source": [
        "# **Load and Prepare the data**"
      ],
      "metadata": {
        "id": "HzQhTOTvfA8N"
      }
    },
    {
      "cell_type": "code",
      "source": [
        "data = io.loadmat('/content/drive/MyDrive/Neural/WLDataCW.mat')\n",
        "print('Length: ' + str(len(data)))\n",
        "print(data.keys())\n",
        "print(data['__globals__'])\n",
        "data_only = data[\"data\"]\n",
        "label = data[\"label\"]\n",
        "print(data_only.shape)\n",
        "print(label.shape)\n",
        "\n",
        "X = data['data']\n",
        "# y = mat_contents['label']\n",
        "data['label'] = data['label'].reshape(360)\n",
        "\n",
        "y_convert = pd.get_dummies(data['label'])\n",
        "# X = X.reshape(62*512,360)\n",
        "X = X.reshape(360, 62*512)\n",
        "\n",
        "y_convert = np.array(y_convert)\n",
        "# y = y_convert.reshape(2,360)\n",
        "y = y_convert\n",
        "\n",
        "X_train, X_test, y_train, y_test = train_test_split(X, y, test_size=0.2, random_state=0)"
      ],
      "metadata": {
        "colab": {
          "base_uri": "https://localhost:8080/"
        },
        "id": "eSlqERNvTNb_",
        "outputId": "3fbe3b82-c6c8-4928-b5f2-e34d101adfa0"
      },
      "execution_count": 2,
      "outputs": [
        {
          "output_type": "stream",
          "name": "stdout",
          "text": [
            "Length: 5\n",
            "dict_keys(['__header__', '__version__', '__globals__', 'data', 'label'])\n",
            "[]\n",
            "(62, 512, 360)\n",
            "(1, 360)\n"
          ]
        }
      ]
    },
    {
      "cell_type": "code",
      "source": [
        "neigh = KNeighborsClassifier(n_neighbors=10)\n",
        "neigh.fit(X_train, y_train)\n",
        "y_new = np.argmax(y, axis=1)\n",
        "kfold = KFold(n_splits=5, shuffle=True)\n",
        "accuracies = cross_val_score(estimator=neigh,\n",
        "                             X=X,\n",
        "                             y=y_new,\n",
        "                             cv=kfold, scoring='accuracy')\n",
        "print(accuracies.mean())"
      ],
      "metadata": {
        "colab": {
          "base_uri": "https://localhost:8080/"
        },
        "id": "N8YMR1YTHKkz",
        "outputId": "8b74159d-5437-43d9-827a-7fec252555e7"
      },
      "execution_count": 3,
      "outputs": [
        {
          "output_type": "stream",
          "name": "stdout",
          "text": [
            "0.43611111111111106\n"
          ]
        }
      ]
    },
    {
      "cell_type": "code",
      "source": [
        "def make_classifier():\n",
        "    model = models.Sequential()\n",
        "    model.add(layers.Dense(128, activation='relu', input_dim=31744))\n",
        "    model.add(layers.Dropout(rate=0.1))\n",
        "    model.add(layers.Dense(64, activation='relu'))\n",
        "    model.add(layers.Dropout(rate=0.1))\n",
        "    model.add(layers.Dense(32, activation='relu'))\n",
        "    model.add(layers.Dropout(rate=0.1))\n",
        "    model.add(layers.Dense(16, activation='relu'))\n",
        "    model.add(layers.Dropout(rate=0.2))\n",
        "    model.add(layers.Dense(8, activation='relu'))\n",
        "    model.add(layers.Dropout(rate=0.2))\n",
        "    model.add(Flatten())\n",
        "    model.add(layers.Dense(2, activation='softmax'))\n",
        "\n",
        "    model.compile(optimizer='adam',\n",
        "                  loss='mse',\n",
        "                  metrics=['accuracy'])\n",
        "    return model\n"
      ],
      "metadata": {
        "id": "CI6mnDmTUUTX"
      },
      "execution_count": 4,
      "outputs": []
    },
    {
      "cell_type": "code",
      "source": [
        "# Define the K-fold Cross Validator\n",
        "kfold = KFold(n_splits=5, shuffle=True)\n",
        "classifier = KerasClassifier(build_fn=make_classifier, verbose=1)\n",
        "\n",
        "# Fit data to model\n",
        "classifier.fit(X_train, y_train, batch_size=64, epochs=50)\n",
        "\n",
        "y_new = np.argmax(y, axis=1)\n",
        "\n",
        "accuracies = cross_val_score(estimator=classifier,\n",
        "                             X=X,\n",
        "                             y=y_new,\n",
        "                             cv=kfold, scoring='accuracy')\n",
        "print(accuracies.mean())"
      ],
      "metadata": {
        "colab": {
          "base_uri": "https://localhost:8080/"
        },
        "id": "28l6ylmEUVIf",
        "outputId": "abc9003a-3ebb-4ef1-bd56-d75eb5e58055"
      },
      "execution_count": 6,
      "outputs": [
        {
          "output_type": "stream",
          "name": "stderr",
          "text": [
            "/usr/local/lib/python3.7/dist-packages/ipykernel_launcher.py:3: DeprecationWarning: KerasClassifier is deprecated, use Sci-Keras (https://github.com/adriangb/scikeras) instead. See https://www.adriangb.com/scikeras/stable/migration.html for help migrating.\n",
            "  This is separate from the ipykernel package so we can avoid doing imports until\n"
          ]
        },
        {
          "output_type": "stream",
          "name": "stdout",
          "text": [
            "Epoch 1/50\n",
            "5/5 [==============================] - 2s 41ms/step - loss: 0.4872 - accuracy: 0.4896\n",
            "Epoch 2/50\n",
            "5/5 [==============================] - 0s 41ms/step - loss: 0.5149 - accuracy: 0.4618\n",
            "Epoch 3/50\n",
            "5/5 [==============================] - 0s 44ms/step - loss: 0.4479 - accuracy: 0.5451\n",
            "Epoch 4/50\n",
            "5/5 [==============================] - 0s 40ms/step - loss: 0.4540 - accuracy: 0.5451\n",
            "Epoch 5/50\n",
            "5/5 [==============================] - 0s 44ms/step - loss: 0.4462 - accuracy: 0.5521\n",
            "Epoch 6/50\n",
            "5/5 [==============================] - 0s 38ms/step - loss: 0.4983 - accuracy: 0.5000\n",
            "Epoch 7/50\n",
            "5/5 [==============================] - 0s 42ms/step - loss: 0.4933 - accuracy: 0.5000\n",
            "Epoch 8/50\n",
            "5/5 [==============================] - 0s 43ms/step - loss: 0.5012 - accuracy: 0.4931\n",
            "Epoch 9/50\n",
            "5/5 [==============================] - 0s 38ms/step - loss: 0.4550 - accuracy: 0.5382\n",
            "Epoch 10/50\n",
            "5/5 [==============================] - 0s 39ms/step - loss: 0.4549 - accuracy: 0.5417\n",
            "Epoch 11/50\n",
            "5/5 [==============================] - 0s 41ms/step - loss: 0.4503 - accuracy: 0.5451\n",
            "Epoch 12/50\n",
            "5/5 [==============================] - 0s 42ms/step - loss: 0.4561 - accuracy: 0.5382\n",
            "Epoch 13/50\n",
            "5/5 [==============================] - 0s 41ms/step - loss: 0.4732 - accuracy: 0.5243\n",
            "Epoch 14/50\n",
            "5/5 [==============================] - 0s 39ms/step - loss: 0.5011 - accuracy: 0.4965\n",
            "Epoch 15/50\n",
            "5/5 [==============================] - 0s 40ms/step - loss: 0.4504 - accuracy: 0.5486\n",
            "Epoch 16/50\n",
            "5/5 [==============================] - 0s 39ms/step - loss: 0.4279 - accuracy: 0.5694\n",
            "Epoch 17/50\n",
            "5/5 [==============================] - 0s 37ms/step - loss: 0.4798 - accuracy: 0.5174\n",
            "Epoch 18/50\n",
            "5/5 [==============================] - 0s 41ms/step - loss: 0.4485 - accuracy: 0.5521\n",
            "Epoch 19/50\n",
            "5/5 [==============================] - 0s 39ms/step - loss: 0.4802 - accuracy: 0.5139\n",
            "Epoch 20/50\n",
            "5/5 [==============================] - 0s 39ms/step - loss: 0.4785 - accuracy: 0.5174\n",
            "Epoch 21/50\n",
            "5/5 [==============================] - 0s 39ms/step - loss: 0.4657 - accuracy: 0.5347\n",
            "Epoch 22/50\n",
            "5/5 [==============================] - 0s 37ms/step - loss: 0.4464 - accuracy: 0.5521\n",
            "Epoch 23/50\n",
            "5/5 [==============================] - 0s 39ms/step - loss: 0.4487 - accuracy: 0.5451\n",
            "Epoch 24/50\n",
            "5/5 [==============================] - 0s 39ms/step - loss: 0.4846 - accuracy: 0.5139\n",
            "Epoch 25/50\n",
            "5/5 [==============================] - 0s 38ms/step - loss: 0.4575 - accuracy: 0.5382\n",
            "Epoch 26/50\n",
            "5/5 [==============================] - 0s 40ms/step - loss: 0.4554 - accuracy: 0.5417\n",
            "Epoch 27/50\n",
            "5/5 [==============================] - 0s 38ms/step - loss: 0.4957 - accuracy: 0.5000\n",
            "Epoch 28/50\n",
            "5/5 [==============================] - 0s 42ms/step - loss: 0.4696 - accuracy: 0.5312\n",
            "Epoch 29/50\n",
            "5/5 [==============================] - 0s 38ms/step - loss: 0.4744 - accuracy: 0.5243\n",
            "Epoch 30/50\n",
            "5/5 [==============================] - 0s 40ms/step - loss: 0.4756 - accuracy: 0.5243\n",
            "Epoch 31/50\n",
            "5/5 [==============================] - 0s 37ms/step - loss: 0.4723 - accuracy: 0.5278\n",
            "Epoch 32/50\n",
            "5/5 [==============================] - 0s 40ms/step - loss: 0.4619 - accuracy: 0.5382\n",
            "Epoch 33/50\n",
            "5/5 [==============================] - 0s 41ms/step - loss: 0.4270 - accuracy: 0.5729\n",
            "Epoch 34/50\n",
            "5/5 [==============================] - 0s 39ms/step - loss: 0.4806 - accuracy: 0.5174\n",
            "Epoch 35/50\n",
            "5/5 [==============================] - 0s 40ms/step - loss: 0.4416 - accuracy: 0.5521\n",
            "Epoch 36/50\n",
            "5/5 [==============================] - 0s 39ms/step - loss: 0.4423 - accuracy: 0.5590\n",
            "Epoch 37/50\n",
            "5/5 [==============================] - 0s 37ms/step - loss: 0.4687 - accuracy: 0.5312\n",
            "Epoch 38/50\n",
            "5/5 [==============================] - 0s 40ms/step - loss: 0.4878 - accuracy: 0.5104\n",
            "Epoch 39/50\n",
            "5/5 [==============================] - 0s 38ms/step - loss: 0.4372 - accuracy: 0.5625\n",
            "Epoch 40/50\n",
            "5/5 [==============================] - 0s 39ms/step - loss: 0.4692 - accuracy: 0.5312\n",
            "Epoch 41/50\n",
            "5/5 [==============================] - 0s 39ms/step - loss: 0.4726 - accuracy: 0.5243\n",
            "Epoch 42/50\n",
            "5/5 [==============================] - 0s 38ms/step - loss: 0.4354 - accuracy: 0.5625\n",
            "Epoch 43/50\n",
            "5/5 [==============================] - 0s 42ms/step - loss: 0.4463 - accuracy: 0.5521\n",
            "Epoch 44/50\n",
            "5/5 [==============================] - 0s 40ms/step - loss: 0.4501 - accuracy: 0.5451\n",
            "Epoch 45/50\n",
            "5/5 [==============================] - 0s 40ms/step - loss: 0.4517 - accuracy: 0.5451\n",
            "Epoch 46/50\n",
            "5/5 [==============================] - 0s 38ms/step - loss: 0.4234 - accuracy: 0.5764\n",
            "Epoch 47/50\n",
            "5/5 [==============================] - 0s 37ms/step - loss: 0.4852 - accuracy: 0.5139\n",
            "Epoch 48/50\n",
            "5/5 [==============================] - 0s 41ms/step - loss: 0.4014 - accuracy: 0.5972\n",
            "Epoch 49/50\n",
            "5/5 [==============================] - 0s 39ms/step - loss: 0.4214 - accuracy: 0.5694\n",
            "Epoch 50/50\n",
            "5/5 [==============================] - 0s 38ms/step - loss: 0.4485 - accuracy: 0.5521\n",
            "9/9 [==============================] - 1s 30ms/step - loss: 0.4803 - accuracy: 0.5000\n",
            "9/9 [==============================] - 1s 29ms/step - loss: 0.4816 - accuracy: 0.5174\n",
            "9/9 [==============================] - 1s 29ms/step - loss: 0.4802 - accuracy: 0.4688\n",
            "9/9 [==============================] - 1s 31ms/step - loss: 0.4819 - accuracy: 0.5139\n",
            "9/9 [==============================] - 1s 30ms/step - loss: 0.4514 - accuracy: 0.5312\n",
            "WARNING:tensorflow:5 out of the last 13 calls to <function Model.make_predict_function.<locals>.predict_function at 0x7f8417cd74d0> triggered tf.function retracing. Tracing is expensive and the excessive number of tracings could be due to (1) creating @tf.function repeatedly in a loop, (2) passing tensors with different shapes, (3) passing Python objects instead of tensors. For (1), please define your @tf.function outside of the loop. For (2), @tf.function has experimental_relax_shapes=True option that relaxes argument shapes that can avoid unnecessary retracing. For (3), please refer to https://www.tensorflow.org/guide/function#controlling_retracing and https://www.tensorflow.org/api_docs/python/tf/function for  more details.\n",
            "0.5027777777777778\n"
          ]
        }
      ]
    },
    {
      "cell_type": "code",
      "source": [
        ""
      ],
      "metadata": {
        "id": "K4NnRHc9U8ED"
      },
      "execution_count": null,
      "outputs": []
    }
  ]
}